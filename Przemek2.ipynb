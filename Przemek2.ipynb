{
 "cells": [
  {
   "cell_type": "code",
   "execution_count": 7,
   "metadata": {
    "collapsed": true
   },
   "outputs": [],
   "source": [
    "%matplotlib inline\n",
    "import pandas as pd\n",
    "import os\n",
    "import numpy as np\n",
    "import xgboost as xgb\n",
    "import random"
   ]
  },
  {
   "cell_type": "code",
   "execution_count": 8,
   "metadata": {
    "collapsed": true
   },
   "outputs": [],
   "source": [
    "data = pd.read_pickle(os.path.join('data', 'xtrain.pkl'))"
   ]
  },
  {
   "cell_type": "code",
   "execution_count": 9,
   "metadata": {
    "collapsed": true
   },
   "outputs": [],
   "source": [
    "param = {\n",
    "    'bst:eta' : [0.002, 0.02],\n",
    "    'bst:subsample' : [0.5,1],\n",
    "    'bst:mim_child_weight' : [0.1,10],\n",
    "    'bst:max_depth' : [2,30],\n",
    "    'bst:gamma' : [0,1],\n",
    "    'objective':'binary:logistic'\n",
    "}"
   ]
  },
  {
   "cell_type": "code",
   "execution_count": 11,
   "metadata": {
    "collapsed": false
   },
   "outputs": [
    {
     "name": "stdout",
     "output_type": "stream",
     "text": [
      "{'bst:mim_child_weight': 3.6368829971716794, 'bst:subsample': 0.805161520542412, 'bst:gamma': 0.558753745214043, 'bst:max_depth': 15.64318245119029, 'objective': 'binary:logistic', 'bst:eta': 0.0029795171040824446}\n"
     ]
    }
   ],
   "source": [
    "def get_random_param(param):\n",
    "    new_param = {}\n",
    "    for key, val in param.iteritems():\n",
    "        if type(val) == list:\n",
    "            new_param[key] = random.random() * (val[1] - val[0]) + val[0]\n",
    "        else:\n",
    "            new_param[key] = val\n",
    "    return new_param\n",
    "\n",
    "print get_random_param(param)"
   ]
  },
  {
   "cell_type": "code",
   "execution_count": null,
   "metadata": {
    "collapsed": true
   },
   "outputs": [],
   "source": []
  }
 ],
 "metadata": {
  "kernelspec": {
   "display_name": "Python [Root]",
   "language": "python",
   "name": "Python [Root]"
  },
  "language_info": {
   "codemirror_mode": {
    "name": "ipython",
    "version": 2
   },
   "file_extension": ".py",
   "mimetype": "text/x-python",
   "name": "python",
   "nbconvert_exporter": "python",
   "pygments_lexer": "ipython2",
   "version": "2.7.12"
  }
 },
 "nbformat": 4,
 "nbformat_minor": 0
}
