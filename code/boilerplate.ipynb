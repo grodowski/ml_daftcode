{
 "cells": [
  {
   "cell_type": "code",
   "execution_count": 1,
   "metadata": {
    "collapsed": false
   },
   "outputs": [
    {
     "name": "stderr",
     "output_type": "stream",
     "text": [
      "/usr/local/lib/python2.7/site-packages/matplotlib/font_manager.py:273: UserWarning: Matplotlib is building the font cache using fc-list. This may take a moment.\n",
      "  warnings.warn('Matplotlib is building the font cache using fc-list. This may take a moment.')\n"
     ]
    }
   ],
   "source": [
    "%matplotlib inline\n",
    "import pandas as pd\n",
    "import os\n",
    "import numpy as np"
   ]
  },
  {
   "cell_type": "code",
   "execution_count": 13,
   "metadata": {
    "collapsed": false
   },
   "outputs": [],
   "source": [
    "pdX = pd.read_pickle(os.path.join('..', 'data', 'our_df2.pickled'))\n",
    "y = pd.read_pickle(os.path.join('..', 'data', 'ytrain.pkl'))\n",
    "\n",
    "# y has one more predicion - trim it\n",
    "y = y[0:-1]\n"
   ]
  },
  {
   "cell_type": "code",
   "execution_count": 14,
   "metadata": {
    "collapsed": false
   },
   "outputs": [
    {
     "name": "stdout",
     "output_type": "stream",
     "text": [
      "(17253, 337)\n",
      "17253\n"
     ]
    }
   ],
   "source": [
    "print(pdX.shape)\n",
    "print(len(y)) # y is 1-dim"
   ]
  },
  {
   "cell_type": "code",
   "execution_count": 15,
   "metadata": {
    "collapsed": false
   },
   "outputs": [],
   "source": [
    "import xgboost as xg\n",
    "\n",
    "# suggested params\n",
    "param = {\n",
    "    'bst:eta' : [0.002, 0.02],\n",
    "    'bst:subsample' : [0.5,1],\n",
    "    'bst:mim_child_weight' : [0.1,10],\n",
    "    'bst:max_depth' : [2,30],\n",
    "    'bst:gamma' : [0,1],\n",
    "    'objective':'binary:logistic'\n",
    "}\n",
    "\n",
    "# create booster\n",
    "\n",
    "tb = xg.XGBClassifier(learning_rate=0.002)"
   ]
  },
  {
   "cell_type": "code",
   "execution_count": 49,
   "metadata": {
    "collapsed": false
   },
   "outputs": [
    {
     "name": "stdout",
     "output_type": "stream",
     "text": [
      "done\n"
     ]
    }
   ],
   "source": [
    "# preprocess data here\n",
    "# our approach has left some Nones, let's do a second pass ;)\n",
    "\n",
    "def clean(x):\n",
    "    if x is None:\n",
    "        return hash(x)\n",
    "    else:\n",
    "        return x\n",
    "\n",
    "pdX = pdX.applymap(clean)\n",
    "print(\"done\")"
   ]
  },
  {
   "cell_type": "code",
   "execution_count": 50,
   "metadata": {
    "collapsed": true
   },
   "outputs": [
    {
     "name": "stdout",
     "output_type": "stream",
     "text": [
      "[0]\tvalidation_0-logloss:0.691426\n",
      "[1]\tvalidation_0-logloss:0.689711\n",
      "[2]\tvalidation_0-logloss:0.688004\n",
      "[3]\tvalidation_0-logloss:0.686303\n",
      "[4]\tvalidation_0-logloss:0.684609\n",
      "[5]\tvalidation_0-logloss:0.682922\n",
      "[6]\tvalidation_0-logloss:0.681241\n",
      "[7]\tvalidation_0-logloss:0.679567\n",
      "[8]\tvalidation_0-logloss:0.6779\n",
      "[9]\tvalidation_0-logloss:0.676239\n",
      "[10]\tvalidation_0-logloss:0.674585\n",
      "[11]\tvalidation_0-logloss:0.672937\n",
      "[12]\tvalidation_0-logloss:0.671296\n",
      "[13]\tvalidation_0-logloss:0.669661\n",
      "[14]\tvalidation_0-logloss:0.668032\n",
      "[15]\tvalidation_0-logloss:0.66641\n",
      "[16]\tvalidation_0-logloss:0.664795\n",
      "[17]\tvalidation_0-logloss:0.663185\n",
      "[18]\tvalidation_0-logloss:0.661582\n",
      "[19]\tvalidation_0-logloss:0.659985\n",
      "[20]\tvalidation_0-logloss:0.658395\n",
      "[21]\tvalidation_0-logloss:0.65681\n",
      "[22]\tvalidation_0-logloss:0.655231\n",
      "[23]\tvalidation_0-logloss:0.653659\n",
      "[24]\tvalidation_0-logloss:0.652093\n",
      "[25]\tvalidation_0-logloss:0.650532\n",
      "[26]\tvalidation_0-logloss:0.648978\n",
      "[27]\tvalidation_0-logloss:0.64743\n",
      "[28]\tvalidation_0-logloss:0.645887\n",
      "[29]\tvalidation_0-logloss:0.644351\n",
      "[30]\tvalidation_0-logloss:0.64282\n",
      "[31]\tvalidation_0-logloss:0.641295\n",
      "[32]\tvalidation_0-logloss:0.639776\n",
      "[33]\tvalidation_0-logloss:0.638263\n",
      "[34]\tvalidation_0-logloss:0.636756\n",
      "[35]\tvalidation_0-logloss:0.635254\n",
      "[36]\tvalidation_0-logloss:0.633758\n",
      "[37]\tvalidation_0-logloss:0.632267\n",
      "[38]\tvalidation_0-logloss:0.630782\n",
      "[39]\tvalidation_0-logloss:0.629303\n",
      "[40]\tvalidation_0-logloss:0.627829\n",
      "[41]\tvalidation_0-logloss:0.626361\n",
      "[42]\tvalidation_0-logloss:0.624899\n",
      "[43]\tvalidation_0-logloss:0.623441\n",
      "[44]\tvalidation_0-logloss:0.62199\n",
      "[45]\tvalidation_0-logloss:0.620543\n",
      "[46]\tvalidation_0-logloss:0.619102\n",
      "[47]\tvalidation_0-logloss:0.617667\n",
      "[48]\tvalidation_0-logloss:0.616237\n",
      "[49]\tvalidation_0-logloss:0.614812\n",
      "[50]\tvalidation_0-logloss:0.613392\n",
      "[51]\tvalidation_0-logloss:0.611978\n",
      "[52]\tvalidation_0-logloss:0.610568\n",
      "[53]\tvalidation_0-logloss:0.609164\n",
      "[54]\tvalidation_0-logloss:0.607766\n",
      "[55]\tvalidation_0-logloss:0.606372\n",
      "[56]\tvalidation_0-logloss:0.604983\n",
      "[57]\tvalidation_0-logloss:0.6036\n",
      "[58]\tvalidation_0-logloss:0.602221\n",
      "[59]\tvalidation_0-logloss:0.600847\n",
      "[60]\tvalidation_0-logloss:0.599479\n",
      "[61]\tvalidation_0-logloss:0.598114\n",
      "[62]\tvalidation_0-logloss:0.596756\n",
      "[63]\tvalidation_0-logloss:0.595401\n",
      "[64]\tvalidation_0-logloss:0.594052\n",
      "[65]\tvalidation_0-logloss:0.592708\n",
      "[66]\tvalidation_0-logloss:0.591368\n",
      "[67]\tvalidation_0-logloss:0.590033\n",
      "[68]\tvalidation_0-logloss:0.588704\n",
      "[69]\tvalidation_0-logloss:0.587378\n",
      "[70]\tvalidation_0-logloss:0.586059\n",
      "[71]\tvalidation_0-logloss:0.584743\n",
      "[72]\tvalidation_0-logloss:0.583434\n",
      "[73]\tvalidation_0-logloss:0.582129\n",
      "[74]\tvalidation_0-logloss:0.580827\n",
      "[75]\tvalidation_0-logloss:0.579531\n",
      "[76]\tvalidation_0-logloss:0.578239\n",
      "[77]\tvalidation_0-logloss:0.576954\n",
      "[78]\tvalidation_0-logloss:0.575671\n",
      "[79]\tvalidation_0-logloss:0.574392\n",
      "[80]\tvalidation_0-logloss:0.573121\n",
      "[81]\tvalidation_0-logloss:0.571851\n",
      "[82]\tvalidation_0-logloss:0.570586\n",
      "[83]\tvalidation_0-logloss:0.569327\n",
      "[84]\tvalidation_0-logloss:0.568072\n",
      "[85]\tvalidation_0-logloss:0.566822\n",
      "[86]\tvalidation_0-logloss:0.565575\n",
      "[87]\tvalidation_0-logloss:0.564334\n",
      "[88]\tvalidation_0-logloss:0.563096\n",
      "[89]\tvalidation_0-logloss:0.561864\n",
      "[90]\tvalidation_0-logloss:0.560634\n",
      "[91]\tvalidation_0-logloss:0.559409\n",
      "[92]\tvalidation_0-logloss:0.55819\n",
      "[93]\tvalidation_0-logloss:0.556973\n",
      "[94]\tvalidation_0-logloss:0.555762\n",
      "[95]\tvalidation_0-logloss:0.554554\n",
      "[96]\tvalidation_0-logloss:0.55335\n",
      "[97]\tvalidation_0-logloss:0.552152\n",
      "[98]\tvalidation_0-logloss:0.550956\n",
      "[99]\tvalidation_0-logloss:0.549766\n",
      "{'validation_0': {'logloss': [0.691426, 0.689711, 0.688004, 0.686303, 0.684609, 0.682922, 0.681241, 0.679567, 0.6779, 0.676239, 0.674585, 0.672937, 0.671296, 0.669661, 0.668032, 0.66641, 0.664795, 0.663185, 0.661582, 0.659985, 0.658395, 0.65681, 0.655231, 0.653659, 0.652093, 0.650532, 0.648978, 0.64743, 0.645887, 0.644351, 0.64282, 0.641295, 0.639776, 0.638263, 0.636756, 0.635254, 0.633758, 0.632267, 0.630782, 0.629303, 0.627829, 0.626361, 0.624899, 0.623441, 0.62199, 0.620543, 0.619102, 0.617667, 0.616237, 0.614812, 0.613392, 0.611978, 0.610568, 0.609164, 0.607766, 0.606372, 0.604983, 0.6036, 0.602221, 0.600847, 0.599479, 0.598114, 0.596756, 0.595401, 0.594052, 0.592708, 0.591368, 0.590033, 0.588704, 0.587378, 0.586059, 0.584743, 0.583434, 0.582129, 0.580827, 0.579531, 0.578239, 0.576954, 0.575671, 0.574392, 0.573121, 0.571851, 0.570586, 0.569327, 0.568072, 0.566822, 0.565575, 0.564334, 0.563096, 0.561864, 0.560634, 0.559409, 0.55819, 0.556973, 0.555762, 0.554554, 0.55335, 0.552152, 0.550956, 0.549766]}}\n"
     ]
    }
   ],
   "source": [
    "from sklearn.cross_validation import train_test_split\n",
    "\n",
    "X_fit, X_eval, y_fit, y_eval= train_test_split(\n",
    "    pdX, y, test_size=0.2, random_state=1\n",
    ")\n",
    "\n",
    "# X = xg.DMatrix(np.array(pdX))\n",
    "tb.fit(X_fit, y_fit, eval_set=[(X_eval, y_eval)], eval_metric='logloss', verbose=True)\n",
    "print tb.evals_result()\n",
    "# tb.fit(X, y)\n"
   ]
  }
 ],
 "metadata": {
  "kernelspec": {
   "display_name": "Python 2",
   "language": "python",
   "name": "python2"
  },
  "language_info": {
   "codemirror_mode": {
    "name": "ipython",
    "version": 2
   },
   "file_extension": ".py",
   "mimetype": "text/x-python",
   "name": "python",
   "nbconvert_exporter": "python",
   "pygments_lexer": "ipython2",
   "version": "2.7.12"
  }
 },
 "nbformat": 4,
 "nbformat_minor": 0
}
