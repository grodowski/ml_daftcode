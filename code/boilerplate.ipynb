{
 "cells": [
  {
   "cell_type": "code",
   "execution_count": 1,
   "metadata": {
    "collapsed": false
   },
   "outputs": [],
   "source": [
    "%matplotlib inline\n",
    "import pandas as pd\n",
    "import os\n",
    "import numpy as np"
   ]
  },
  {
   "cell_type": "markdown",
   "metadata": {},
   "source": [
    "## Cleaning"
   ]
  },
  {
   "cell_type": "code",
   "execution_count": 25,
   "metadata": {
    "collapsed": true
   },
   "outputs": [],
   "source": [
    "# TODO(run clean)\n",
    "hash2 = lambda x: hash(x) % 10**4\n",
    "\n",
    "def findFirstVal(s):\n",
    "    for i in s:\n",
    "        if i != None:\n",
    "            return i\n",
    "\n",
    "def transform_df(df, name):\n",
    "    pass\n",
    "\n",
    "def find_columns_type(df):\n",
    "    result = {}\n",
    "    for key, val in df.iteritems():\n",
    "        for i in val:\n",
    "            if i != None:\n",
    "                result[key] = type(i)\n",
    "                break \n",
    "    return result\n",
    "       \n",
    "def append_none(d):\n",
    "    for k, v in d.iteritems():\n",
    "        d[k].append(None)\n",
    "        \n",
    "def transform_dict(series, key_old):\n",
    "    data = {}\n",
    "    for item in series:\n",
    "        if type(item) == dict:\n",
    "            for k, v in item.iteritems():\n",
    "                data[k] = []\n",
    "    for item in series:\n",
    "        if item == None:\n",
    "            append_none(data)\n",
    "        elif type(item) == dict:\n",
    "            for k in data.keys():\n",
    "                v = None if k not in item else item[k]\n",
    "                if type(v) == dict:\n",
    "                    data[k].append(hash2(None))\n",
    "                elif type(v) == list:\n",
    "                    data[k].append(hash2(None))\n",
    "                elif type(v) in [int, float]:\n",
    "                    data[k].append(v)\n",
    "                else:\n",
    "                    data[k].append(hash2(v))\n",
    "    return {key_old + '++' + k : v for k, v in data.iteritems()}\n",
    "\n",
    "def clean_val(df, columns_map):\n",
    "    result = {}\n",
    "    for key, val in df.iteritems():\n",
    "        if not key in columns_map or columns_map[key] == list:\n",
    "            continue\n",
    "        elif columns_map[key] in [int, float]:\n",
    "            result[key] = val\n",
    "        elif columns_map[key] == dict:\n",
    "            result.update(transform_dict(val, key))\n",
    "        else:\n",
    "#             else columns_map[key] in [str, list]:\n",
    "            result[key] = map(hash2, val)\n",
    "    return result\n",
    "\n",
    "# Public api, use this!\n",
    "def clean_dataset(data):\n",
    "    columns_types = find_columns_type(data)\n",
    "    clean_df = clean_val(data, columns_types)\n",
    "    ret = pd.DataFrame(clean_df)\n",
    "    ret.fillna(0, inplace=True)\n",
    "    return ret"
   ]
  },
  {
   "cell_type": "code",
   "execution_count": 9,
   "metadata": {
    "collapsed": false
   },
   "outputs": [
    {
     "name": "stdout",
     "output_type": "stream",
     "text": [
      "x72496 x32520 x46219 x97734 x98434 x13664 x83336 x48420 x97674 agent_type api_call_datetime browser browser_language browser_string browser_string_hash browser_string_mismatch browser_version cc_bin_number cc_bin_number_brand cc_bin_number_category cc_bin_number_geo cc_bin_number_org cc_bin_number_type cc_number_hash_assert_history cc_number_hash_first_seen cc_number_hash_last_event cc_number_hash_last_update cc_number_hash_result cc_number_hash_score cc_number_hash_worst_score cidr_number x21877 custom_count_1 custom_count_2 custom_count_3 custom_count_4 x87918 x68280 x31255 x85112 x18591 x35653 x75049 x76409 x80911 x96255 x60781 x23739 dns_ip_city dns_ip_geo dns_ip_isp dns_ip_latitude dns_ip_longitude dns_ip_organization dns_ip_region dns_ip_region_iso_code x5290 x5170 x5342 x5193 x92645 x31903 x94347 x82598 x40007 x13872 x59752 x14458 x85212 x54084 x3314 headers_name_value_hash headers_order_string_hash x10047 x80385 input_ip_assert_history input_ip_attributes input_ip_city input_ip_first_seen input_ip_geo input_ip_isp input_ip_last_event input_ip_last_update input_ip_latitude input_ip_longitude input_ip_organization input_ip_region input_ip_region_iso_code input_ip_result input_ip_score js_browser js_browser_string js_browser_string_hash js_fonts_hash js_fonts_number js_os mime_type_hash mime_type_number os x21202 x33709 x12964 x2801 x70617 x48486 x52094 x46567 x46591 x44170 x44566 x42973 x39150 x41009 x83032 x98509 x21215 x50289 x1384 x3370 x91746 x51274 x3168 profiling_datetime x42420 x66439 x50315 x66015 x51172 x92166 x92221 x58765 x64585 x67114 x3076 x63143 x26588 x38363 x26431 x42317 x97771 x73629 remote_desktop request_duration request_result review_status risk_rating x55586 x5600 x9486 x9789 x40163 x16453 session_id session_id_query_count x14739 x61305 x80025 time_zone time_zone_dst_offset transaction_currency x71910 x84525 x76585 x75714 x16584 x52116 x11958 x7971 x46383 x71182 x30901 x96316 x31318 x70806 x43300 x55037 x12050 x58838 x87611 id reference expiration_year expiration_month received_at bin bin_country client_status_code session_id transaction_amount transaction_currency application_id user_reference user_ip_address user_ip_country card_level supports_3d checked returns_not_authorized card_type country_code modified card_brand name tcp_mss tcp_tos tcp_ttl tcp_win tcp_os_name tcp_os_flavor headers_accept headers_connection headers_user_agent headers_content_type headers_content_length headers_accept_encoding headers_accept_language timeoftotalpageload timeofrequestresponse windowhistory navigatorvendor navigatorappname navigatorproduct navigatorappversion navigatorproductsub navigatorappcodename plugin screen feature language useragent donottrack timezoneoffset navigatorplatform navigatorlanguages navigatorjavaenabled navigatorcookieenabled timeformat parsed_user_agent flash_fonts flash_fields flash_devices dwell_time flight_time\n"
     ]
    }
   ],
   "source": [
    "pdX = clean_dataset(pd.read_pickle(os.path.join('..', 'data', 'xtrain.pkl')))\n",
    "y = pd.read_pickle(os.path.join('..', 'data', 'ytrain.pkl'))\n",
    "\n",
    "# y has one more predicion - trim it\n",
    "y = y[0:-1]"
   ]
  },
  {
   "cell_type": "code",
   "execution_count": 11,
   "metadata": {
    "collapsed": false
   },
   "outputs": [
    {
     "name": "stdout",
     "output_type": "stream",
     "text": [
      "(17253, 337)\n",
      "17253\n"
     ]
    }
   ],
   "source": [
    "print(pdX.shape)\n",
    "print(len(y)) # y is 1-dim"
   ]
  },
  {
   "cell_type": "code",
   "execution_count": 12,
   "metadata": {
    "collapsed": false
   },
   "outputs": [
    {
     "name": "stderr",
     "output_type": "stream",
     "text": [
      "/usr/local/lib/python2.7/site-packages/sklearn/cross_validation.py:44: DeprecationWarning: This module was deprecated in version 0.18 in favor of the model_selection module into which all the refactored classes and functions are moved. Also note that the interface of the new CV iterators are different from that of this module. This module will be removed in 0.20.\n",
      "  \"This module will be removed in 0.20.\", DeprecationWarning)\n"
     ]
    },
    {
     "name": "stdout",
     "output_type": "stream",
     "text": [
      "[0]\tvalidation_0-logloss:0.651038\n",
      "[1]\tvalidation_0-logloss:0.612983\n",
      "[2]\tvalidation_0-logloss:0.578454\n",
      "[3]\tvalidation_0-logloss:0.546897\n",
      "[4]\tvalidation_0-logloss:0.518048\n",
      "[5]\tvalidation_0-logloss:0.49165\n",
      "[6]\tvalidation_0-logloss:0.46735\n",
      "[7]\tvalidation_0-logloss:0.444932\n",
      "[8]\tvalidation_0-logloss:0.424327\n",
      "[9]\tvalidation_0-logloss:0.405268\n",
      "[10]\tvalidation_0-logloss:0.387585\n",
      "[11]\tvalidation_0-logloss:0.371199\n",
      "[12]\tvalidation_0-logloss:0.356022\n",
      "[13]\tvalidation_0-logloss:0.341889\n",
      "[14]\tvalidation_0-logloss:0.328719\n",
      "[15]\tvalidation_0-logloss:0.316427\n",
      "[16]\tvalidation_0-logloss:0.305044\n",
      "[17]\tvalidation_0-logloss:0.294464\n",
      "[18]\tvalidation_0-logloss:0.284515\n",
      "[19]\tvalidation_0-logloss:0.275297\n",
      "[20]\tvalidation_0-logloss:0.266648\n",
      "[21]\tvalidation_0-logloss:0.258576\n",
      "[22]\tvalidation_0-logloss:0.251005\n",
      "[23]\tvalidation_0-logloss:0.243995\n",
      "[24]\tvalidation_0-logloss:0.237394\n",
      "[25]\tvalidation_0-logloss:0.231252\n",
      "[26]\tvalidation_0-logloss:0.225474\n",
      "[27]\tvalidation_0-logloss:0.2201\n",
      "[28]\tvalidation_0-logloss:0.215026\n",
      "[29]\tvalidation_0-logloss:0.210314\n",
      "[30]\tvalidation_0-logloss:0.205904\n",
      "[31]\tvalidation_0-logloss:0.201734\n",
      "[32]\tvalidation_0-logloss:0.197895\n",
      "[33]\tvalidation_0-logloss:0.194261\n",
      "[34]\tvalidation_0-logloss:0.190836\n",
      "[35]\tvalidation_0-logloss:0.187692\n",
      "[36]\tvalidation_0-logloss:0.184694\n",
      "[37]\tvalidation_0-logloss:0.181861\n",
      "[38]\tvalidation_0-logloss:0.179222\n",
      "[39]\tvalidation_0-logloss:0.17672\n",
      "[40]\tvalidation_0-logloss:0.174438\n",
      "[41]\tvalidation_0-logloss:0.17229\n",
      "[42]\tvalidation_0-logloss:0.170286\n",
      "[43]\tvalidation_0-logloss:0.168375\n",
      "[44]\tvalidation_0-logloss:0.166621\n",
      "[45]\tvalidation_0-logloss:0.16494\n",
      "[46]\tvalidation_0-logloss:0.163367\n",
      "[47]\tvalidation_0-logloss:0.161897\n",
      "[48]\tvalidation_0-logloss:0.160471\n",
      "[49]\tvalidation_0-logloss:0.159157\n",
      "[50]\tvalidation_0-logloss:0.157977\n",
      "[51]\tvalidation_0-logloss:0.156882\n",
      "[52]\tvalidation_0-logloss:0.155812\n",
      "[53]\tvalidation_0-logloss:0.154722\n",
      "[54]\tvalidation_0-logloss:0.153808\n",
      "[55]\tvalidation_0-logloss:0.152975\n",
      "[56]\tvalidation_0-logloss:0.152148\n",
      "[57]\tvalidation_0-logloss:0.151285\n",
      "[58]\tvalidation_0-logloss:0.150627\n",
      "[59]\tvalidation_0-logloss:0.149938\n",
      "[60]\tvalidation_0-logloss:0.14924\n",
      "[61]\tvalidation_0-logloss:0.148622\n",
      "[62]\tvalidation_0-logloss:0.14805\n",
      "[63]\tvalidation_0-logloss:0.147488\n",
      "[64]\tvalidation_0-logloss:0.147024\n",
      "[65]\tvalidation_0-logloss:0.146441\n",
      "[66]\tvalidation_0-logloss:0.146106\n",
      "[67]\tvalidation_0-logloss:0.14575\n",
      "[68]\tvalidation_0-logloss:0.14537\n",
      "[69]\tvalidation_0-logloss:0.145075\n",
      "[70]\tvalidation_0-logloss:0.144723\n",
      "[71]\tvalidation_0-logloss:0.144381\n",
      "[72]\tvalidation_0-logloss:0.14406\n",
      "[73]\tvalidation_0-logloss:0.143899\n",
      "[74]\tvalidation_0-logloss:0.143578\n",
      "[75]\tvalidation_0-logloss:0.143347\n",
      "[76]\tvalidation_0-logloss:0.143063\n",
      "[77]\tvalidation_0-logloss:0.142775\n",
      "[78]\tvalidation_0-logloss:0.142607\n",
      "[79]\tvalidation_0-logloss:0.14238\n",
      "[80]\tvalidation_0-logloss:0.142246\n",
      "[81]\tvalidation_0-logloss:0.142032\n",
      "[82]\tvalidation_0-logloss:0.141721\n",
      "[83]\tvalidation_0-logloss:0.141568\n",
      "[84]\tvalidation_0-logloss:0.141434\n",
      "[85]\tvalidation_0-logloss:0.141224\n",
      "[86]\tvalidation_0-logloss:0.141076\n",
      "[87]\tvalidation_0-logloss:0.140932\n",
      "[88]\tvalidation_0-logloss:0.140793\n",
      "[89]\tvalidation_0-logloss:0.140599\n",
      "[90]\tvalidation_0-logloss:0.140625\n",
      "[91]\tvalidation_0-logloss:0.140494\n",
      "[92]\tvalidation_0-logloss:0.140413\n",
      "[93]\tvalidation_0-logloss:0.140225\n",
      "[94]\tvalidation_0-logloss:0.140191\n",
      "[95]\tvalidation_0-logloss:0.140136\n",
      "[96]\tvalidation_0-logloss:0.140111\n",
      "[97]\tvalidation_0-logloss:0.14001\n",
      "[98]\tvalidation_0-logloss:0.139871\n",
      "[99]\tvalidation_0-logloss:0.13984\n"
     ]
    }
   ],
   "source": [
    "from sklearn.cross_validation import train_test_split\n",
    "from sklearn.metrics import roc_auc_score, f1_score\n",
    "import xgboost as xg\n",
    "\n",
    "# suggested params\n",
    "param = {\n",
    "    'bst:eta' : [0.002, 0.02],\n",
    "    'bst:subsample' : [0.5,1],\n",
    "    'bst:mim_child_weight' : [0.1,10],\n",
    "    'bst:max_depth' : [2,30],\n",
    "    'bst:gamma' : [0,1],\n",
    "    'objective':'binary:logistic'\n",
    "}\n",
    "\n",
    "X_tmp, X_eval, y_tmp, y_eval = train_test_split(\n",
    "    pdX, y, test_size=0.2, random_state=42\n",
    ")\n",
    "\n",
    "X_fit, X_test, y_fit, y_test = train_test_split(\n",
    "    X_tmp, y_tmp, test_size=0.2, random_state=42\n",
    ")\n",
    "# X_fit = pdX\n",
    "# y_fit = y\n",
    "# X_eval = pdX\n",
    "# y_eval = y\n",
    "\n",
    "# print(\"fit shape: \", X_fit.shape)\n",
    "# print(\"eval shape: \", X_eval.shape)\n",
    "# print(\"fit 1s:\", len(filter(lambda x: x == 1, y_fit)))\n",
    "# print(\"eval 1s:\", len(filter(lambda x: x == 1, y_eval)))\n",
    "\n",
    "# X = xg.DMatrix(np.array(pdX))\n",
    "# tb = xg.XGBClassifier(learning_rate=0.05).fit(X_fit, y_fit)\n",
    "tb = xg.XGBClassifier(learning_rate=0.05)\n",
    "tb.fit(X_fit, y_fit, eval_set=[(X_eval, y_eval)], eval_metric='logloss', verbose=True)\n",
    "# print tb.evals_result()\n",
    "y_pred = tb.predict_proba(X_test)"
   ]
  },
  {
   "cell_type": "code",
   "execution_count": 13,
   "metadata": {
    "collapsed": false
   },
   "outputs": [
    {
     "name": "stdout",
     "output_type": "stream",
     "text": [
      "2761\n",
      "215\n"
     ]
    }
   ],
   "source": [
    "print len(y_pred)\n",
    "# print f1_score(y_eval, y_pred)\n",
    "print len(filter(lambda x: x, map(lambda x: x[1] > 0.07, y_pred)))"
   ]
  },
  {
   "cell_type": "markdown",
   "metadata": {},
   "source": [
    "## Test set"
   ]
  },
  {
   "cell_type": "code",
   "execution_count": 14,
   "metadata": {
    "collapsed": false
   },
   "outputs": [
    {
     "data": {
      "text/plain": [
       "0.73985849476137111"
      ]
     },
     "execution_count": 14,
     "metadata": {},
     "output_type": "execute_result"
    }
   ],
   "source": [
    "# auc\n",
    "from sklearn.metrics import roc_auc_score\n",
    "y_true = y_test\n",
    "y_scores = map(lambda x: x[1], y_pred)\n",
    "roc_auc_score(y_true, y_scores)"
   ]
  },
  {
   "cell_type": "markdown",
   "metadata": {},
   "source": [
    "## Predictions for real testset"
   ]
  },
  {
   "cell_type": "code",
   "execution_count": 16,
   "metadata": {
    "collapsed": false
   },
   "outputs": [
    {
     "data": {
      "text/plain": [
       "337"
      ]
     },
     "execution_count": 16,
     "metadata": {},
     "output_type": "execute_result"
    }
   ],
   "source": [
    "len(X_test.columns)"
   ]
  },
  {
   "cell_type": "code",
   "execution_count": 17,
   "metadata": {
    "collapsed": false
   },
   "outputs": [
    {
     "name": "stdout",
     "output_type": "stream",
     "text": [
      "x72496 x32520 x46219 x97734 x98434 x13664 x83336 x48420 x97674 agent_type api_call_datetime browser browser_language browser_string browser_string_hash browser_string_mismatch browser_version cc_bin_number cc_bin_number_brand cc_bin_number_category cc_bin_number_geo cc_bin_number_org cc_bin_number_type cc_number_hash_assert_history cc_number_hash_first_seen cc_number_hash_last_event cc_number_hash_last_update cc_number_hash_result cc_number_hash_score cc_number_hash_worst_score cidr_number x21877 custom_count_1 custom_count_2 custom_count_3 custom_count_4 x87918 x68280 x31255 x85112 x18591 x35653 x75049 x76409 x80911 x96255 x60781 x23739 dns_ip_city dns_ip_geo dns_ip_isp dns_ip_latitude dns_ip_longitude dns_ip_organization dns_ip_region dns_ip_region_iso_code x5290 x5170 x5342 x5193 x92645 x31903 x94347 x82598 x40007 x13872 x59752 x14458 x85212 x54084 x3314 headers_name_value_hash headers_order_string_hash x10047 x80385 input_ip_assert_history input_ip_attributes input_ip_city input_ip_first_seen input_ip_geo input_ip_isp input_ip_last_event input_ip_last_update input_ip_latitude input_ip_longitude input_ip_organization input_ip_region input_ip_region_iso_code input_ip_result input_ip_score js_browser js_browser_string js_browser_string_hash js_fonts_hash js_fonts_number js_os mime_type_hash mime_type_number os x21202 x33709 x12964 x2801 x70617 x48486 x52094 x46567 x46591 x44170 x44566 x42973 x39150 x41009 x83032 x98509 x21215 x50289 x1384 x3370 x91746 x51274 x3168 profiling_datetime x42420 x66439 x50315 x66015 x51172 x92166 x92221 x58765 x64585 x67114 x3076 x63143 x26588 x38363 x26431 x42317 x97771 x73629 remote_desktop request_duration request_result review_status risk_rating x55586 x5600 x9486 x9789 x40163 x16453 session_id session_id_query_count x14739 x61305 x80025 time_zone time_zone_dst_offset transaction_currency x71910 x84525 x76585 x75714 x16584 x52116 x11958 x7971 x46383 x71182 x30901 x96316 x31318 x70806 x43300 x55037 x12050 x58838 x87611 id reference expiration_year expiration_month received_at bin bin_country client_status_code session_id transaction_amount transaction_currency application_id user_reference user_ip_address user_ip_country card_level supports_3d checked returns_not_authorized card_type country_code modified card_brand name tcp_mss tcp_tos tcp_ttl tcp_win tcp_os_name tcp_os_flavor headers_accept headers_connection headers_user_agent headers_content_type headers_content_length headers_accept_encoding headers_accept_language timeoftotalpageload timeofrequestresponse windowhistory navigatorvendor navigatorappname navigatorproduct navigatorappversion navigatorproductsub navigatorappcodename plugin screen feature language useragent donottrack timezoneoffset navigatorplatform navigatorlanguages navigatorjavaenabled navigatorcookieenabled timeformat parsed_user_agent flash_fonts flash_fields flash_devices dwell_time flight_time (7395, 345)\n"
     ]
    }
   ],
   "source": [
    "X_test_real = clean_dataset(pd.read_pickle(os.path.join('..', 'data', 'xtest.pkl')))\n",
    "print(X_test_real.shape)\n"
   ]
  },
  {
   "cell_type": "code",
   "execution_count": null,
   "metadata": {
    "collapsed": true
   },
   "outputs": [],
   "source": []
  },
  {
   "cell_type": "code",
   "execution_count": 19,
   "metadata": {
    "collapsed": false
   },
   "outputs": [
    {
     "data": {
      "text/plain": [
       "337"
      ]
     },
     "execution_count": 19,
     "metadata": {},
     "output_type": "execute_result"
    }
   ],
   "source": [
    "X_test_real_match = X_test_real[X_test.columns]\n",
    "len(X_test_real_match.columns)"
   ]
  },
  {
   "cell_type": "code",
   "execution_count": 20,
   "metadata": {
    "collapsed": true
   },
   "outputs": [],
   "source": [
    "y_test_real = tb.predict_proba(X_test_real_match)"
   ]
  },
  {
   "cell_type": "code",
   "execution_count": 21,
   "metadata": {
    "collapsed": false
   },
   "outputs": [
    {
     "data": {
      "text/plain": [
       "array([[ 0.95795226,  0.04204771],\n",
       "       [ 0.98484695,  0.01515303],\n",
       "       [ 0.96372944,  0.03627057],\n",
       "       ..., \n",
       "       [ 0.99053693,  0.00946308],\n",
       "       [ 0.9598124 ,  0.04018762],\n",
       "       [ 0.98902661,  0.01097341]], dtype=float32)"
      ]
     },
     "execution_count": 21,
     "metadata": {},
     "output_type": "execute_result"
    }
   ],
   "source": [
    "y_test_real"
   ]
  },
  {
   "cell_type": "code",
   "execution_count": 22,
   "metadata": {
    "collapsed": true
   },
   "outputs": [],
   "source": [
    "# write results\n",
    "import pickle\n",
    "with open(os.path.join('..','data', 'ytest.pkl'), 'w') as f:\n",
    "    pickle.dump(y_test_real,f)"
   ]
  },
  {
   "cell_type": "code",
   "execution_count": 26,
   "metadata": {
    "collapsed": false
   },
   "outputs": [
    {
     "data": {
      "text/plain": [
       "7395"
      ]
     },
     "execution_count": 26,
     "metadata": {},
     "output_type": "execute_result"
    }
   ],
   "source": [
    "a = pd.read_pickle(os.path.join('..','data', 'ytest.pkl'))\n",
    "len(a)"
   ]
  }
 ],
 "metadata": {
  "kernelspec": {
   "display_name": "Python 2",
   "language": "python",
   "name": "python2"
  },
  "language_info": {
   "codemirror_mode": {
    "name": "ipython",
    "version": 2
   },
   "file_extension": ".py",
   "mimetype": "text/x-python",
   "name": "python",
   "nbconvert_exporter": "python",
   "pygments_lexer": "ipython2",
   "version": "2.7.12"
  }
 },
 "nbformat": 4,
 "nbformat_minor": 0
}
