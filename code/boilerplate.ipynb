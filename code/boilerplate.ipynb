{
 "cells": [
  {
   "cell_type": "code",
   "execution_count": 87,
   "metadata": {
    "collapsed": false
   },
   "outputs": [],
   "source": [
    "%matplotlib inline\n",
    "import pandas as pd\n",
    "import os\n",
    "import numpy as np"
   ]
  },
  {
   "cell_type": "code",
   "execution_count": 88,
   "metadata": {
    "collapsed": false
   },
   "outputs": [],
   "source": [
    "pdX = pd.read_pickle(os.path.join('..', '..', 'data', 'our_df2.pickled'))\n",
    "y = pd.read_pickle(os.path.join('..', '..', 'data', 'ytrain.pkl'))\n",
    "\n",
    "# y has one more predicion - trim it\n",
    "y = y[0:-1]"
   ]
  },
  {
   "cell_type": "code",
   "execution_count": 89,
   "metadata": {
    "collapsed": false
   },
   "outputs": [
    {
     "name": "stdout",
     "output_type": "stream",
     "text": [
      "(17253, 337)\n",
      "17253\n"
     ]
    }
   ],
   "source": [
    "print(pdX.shape)\n",
    "print(len(y)) # y is 1-dim"
   ]
  },
  {
   "cell_type": "code",
   "execution_count": 90,
   "metadata": {
    "collapsed": false
   },
   "outputs": [
    {
     "name": "stdout",
     "output_type": "stream",
     "text": [
      "done\n"
     ]
    }
   ],
   "source": [
    "# preprocess data here\n",
    "# our approach has left some Nones, let's do a second pass ;)\n",
    "\n",
    "# def clean(x):\n",
    "#     if x is None:\n",
    "#         return hash(x)\n",
    "#     else:\n",
    "#         return x\n",
    "\n",
    "\n",
    "# pdX = pdX.applymap(clean)\n",
    "pdX.fillna(0, inplace=True)\n",
    "# from sklearn.preprocessing import scale\n",
    "# pdX = pdX.apply(lambda col:scale(col))\n",
    "print(\"done\")"
   ]
  },
  {
   "cell_type": "code",
   "execution_count": 94,
   "metadata": {
    "collapsed": false
   },
   "outputs": [],
   "source": [
    "from sklearn.cross_validation import train_test_split\n",
    "from sklearn.metrics import roc_auc_score, f1_score\n",
    "import xgboost as xg\n",
    "\n",
    "# suggested params\n",
    "param = {\n",
    "    'bst:eta' : [0.002, 0.02],\n",
    "    'bst:subsample' : [0.5,1],\n",
    "    'bst:mim_child_weight' : [0.1,10],\n",
    "    'bst:max_depth' : [2,30],\n",
    "    'bst:gamma' : [0,1],\n",
    "    'objective':'binary:logistic'\n",
    "}\n",
    "\n",
    "X_fit, X_eval, y_fit, y_eval = train_test_split(\n",
    "    pdX, y, test_size=0.3, random_state=42\n",
    ")\n",
    "# X_fit = pdX\n",
    "# y_fit = y\n",
    "# X_eval = pdX\n",
    "# y_eval = y\n",
    "\n",
    "# print(\"fit shape: \", X_fit.shape)\n",
    "# print(\"eval shape: \", X_eval.shape)\n",
    "# print(\"fit 1s:\", len(filter(lambda x: x == 1, y_fit)))\n",
    "# print(\"eval 1s:\", len(filter(lambda x: x == 1, y_eval)))\n",
    "\n",
    "# X = xg.DMatrix(np.array(pdX))\n",
    "tb = xg.XGBClassifier(learning_rate=0.05).fit(X_fit, y_fit)\n",
    "# tb = xg.XGBClassifier(learning_rate=0.05)\n",
    "# tb.fit(X_fit, y_fit, eval_set=[(X_eval, y_eval)], eval_metric='logloss', verbose=True)\n",
    "# print tb.evals_result()\n",
    "y_pred = tb.predict_proba(X_eval)"
   ]
  },
  {
   "cell_type": "code",
   "execution_count": 95,
   "metadata": {
    "collapsed": false
   },
   "outputs": [
    {
     "name": "stdout",
     "output_type": "stream",
     "text": [
      "5176\n",
      "332\n"
     ]
    }
   ],
   "source": [
    "print len(y_pred)\n",
    "# print f1_score(y_eval, y_pred)\n",
    "print len(filter(lambda x: x, map(lambda x: x[1] > 0.07, y_pred)))"
   ]
  },
  {
   "cell_type": "code",
   "execution_count": 96,
   "metadata": {
    "collapsed": false
   },
   "outputs": [
    {
     "data": {
      "text/plain": [
       "0.73859620555655803"
      ]
     },
     "execution_count": 96,
     "metadata": {},
     "output_type": "execute_result"
    }
   ],
   "source": [
    "# auc\n",
    "from sklearn.metrics import roc_auc_score\n",
    "y_true = y_eval\n",
    "y_scores = map(lambda x: x[1], y_pred)\n",
    "roc_auc_score(y_true, y_scores)"
   ]
  },
  {
   "cell_type": "code",
   "execution_count": 9,
   "metadata": {
    "collapsed": true
   },
   "outputs": [],
   "source": [
    "import pickle\n",
    "with open(os.path.join('..','data', 'y_pred.pickle'), 'w') as f:\n",
    "    pickle.dump(y_pred,f)"
   ]
  },
  {
   "cell_type": "code",
   "execution_count": 14,
   "metadata": {
    "collapsed": false
   },
   "outputs": [],
   "source": [
    "# pd.read_pickle(os.path.join('..','data', 'y_pred.pickle'))"
   ]
  }
 ],
 "metadata": {
  "kernelspec": {
   "display_name": "Python [Root]",
   "language": "python",
   "name": "Python [Root]"
  },
  "language_info": {
   "codemirror_mode": {
    "name": "ipython",
    "version": 2
   },
   "file_extension": ".py",
   "mimetype": "text/x-python",
   "name": "python",
   "nbconvert_exporter": "python",
   "pygments_lexer": "ipython2",
   "version": "2.7.12"
  }
 },
 "nbformat": 4,
 "nbformat_minor": 0
}
